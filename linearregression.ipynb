import numpy as np
import pandas as pd

class LinearRegression:
    def __init__(self, learning_rate, iterations):
        self.learning_rate = learning_rate
        self.iterations = iterations
        self.weights = None
        self.bias = None
        self.X = None
        self.Y = None
        self.n_samples = 0
        self.n_features = 0

    def fit(self, X, Y):
        self.X = X
        self.Y = Y
        self.n_samples, self.n_features = X.shape
        self.weights = np.zeros(self.n_features)
        self.bias = 0

        for _ in range(self.iterations):
            self.update_weights()
        
        return self

    def update_weights(self):
        Y_pred = self.X.dot(self.weights) + self.bias
        error = Y_pred - self.Y

        dw = (1 / self.n_samples) * self.X.T.dot(error)
        db = (1 / self.n_samples) * np.sum(error)

        self.weights -= self.learning_rate * dw
        self.bias -= self.learning_rate * db

    def predict(self, X):
        return X.dot(self.weights) + self.bias

# Загрузка данных
df = pd.read_csv('salary_data.csv')
X = df.iloc[:, :-1].values
Y = df.iloc[:, 1].values

# Обучение модели
model = LinearRegression(learning_rate=0.01, iterations=1000)
model.fit(X, Y)

# Предсказание и вывод результатов
Y_pred = model.predict(X)
print(*np.round(model.weights, 2))
print(np.round(model.bias, 2))
