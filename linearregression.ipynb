{
  "nbformat": 4,
  "nbformat_minor": 0,
  "metadata": {
    "colab": {
      "provenance": [],
      "authorship_tag": "ABX9TyOQ4EggQONykkfyP8wsNtXs",
      "include_colab_link": true
    },
    "kernelspec": {
      "name": "python3",
      "display_name": "Python 3"
    },
    "language_info": {
      "name": "python"
    }
  },
  "cells": [
    {
      "cell_type": "markdown",
      "metadata": {
        "id": "view-in-github",
        "colab_type": "text"
      },
      "source": [
        "<a href=\"https://colab.research.google.com/github/bragind/ML/blob/main/linearregression.ipynb\" target=\"_parent\"><img src=\"https://colab.research.google.com/assets/colab-badge.svg\" alt=\"Open In Colab\"/></a>"
      ]
    },
    {
      "cell_type": "code",
      "execution_count": 1,
      "metadata": {
        "colab": {
          "base_uri": "https://localhost:8080/"
        },
        "id": "L1djRb8NFEnE",
        "outputId": "d3256e9c-5e39-4916-a152-4696beecc160"
      },
      "outputs": [
        {
          "output_type": "stream",
          "name": "stdout",
          "text": [
            "9876.11\n",
            "22920.49\n"
          ]
        }
      ],
      "source": [
        "import numpy as np\n",
        "import pandas as pd\n",
        "\n",
        "class LinearRegression:\n",
        "    def __init__(self, learning_rate, iterations):\n",
        "        self.learning_rate = learning_rate\n",
        "        self.iterations = iterations\n",
        "        self.weights = None\n",
        "        self.bias = None\n",
        "        self.X = None\n",
        "        self.Y = None\n",
        "        self.n_samples = 0\n",
        "        self.n_features = 0\n",
        "\n",
        "    def fit(self, X, Y):\n",
        "        self.X = X\n",
        "        self.Y = Y\n",
        "        self.n_samples, self.n_features = X.shape\n",
        "        self.weights = np.zeros(self.n_features)\n",
        "        self.bias = 0\n",
        "\n",
        "        for _ in range(self.iterations):\n",
        "            self.update_weights()\n",
        "\n",
        "        return self\n",
        "\n",
        "    def update_weights(self):\n",
        "        Y_pred = self.X.dot(self.weights) + self.bias\n",
        "        error = Y_pred - self.Y\n",
        "\n",
        "        dw = (1 / self.n_samples) * self.X.T.dot(error)\n",
        "        db = (1 / self.n_samples) * np.sum(error)\n",
        "\n",
        "        self.weights -= self.learning_rate * dw\n",
        "        self.bias -= self.learning_rate * db\n",
        "\n",
        "    def predict(self, X):\n",
        "        return X.dot(self.weights) + self.bias\n",
        "\n",
        "# Загрузка данных\n",
        "df = pd.read_csv('salary_data.csv')\n",
        "X = df.iloc[:, :-1].values\n",
        "Y = df.iloc[:, 1].values\n",
        "\n",
        "# Обучение модели\n",
        "model = LinearRegression(learning_rate=0.01, iterations=1000)\n",
        "model.fit(X, Y)\n",
        "\n",
        "# Предсказание и вывод результатов\n",
        "Y_pred = model.predict(X)\n",
        "print(*np.round(model.weights, 2))\n",
        "print(np.round(model.bias, 2))"
      ]
    }
  ]
}